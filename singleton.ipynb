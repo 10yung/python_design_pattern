{
 "cells": [
  {
   "cell_type": "markdown",
   "metadata": {},
   "source": [
    "## Singleton\n",
    "Object that only can be created and initialized once. Usually connects to global usage, such as log object, driver that connect to database\n"
   ]
  },
  {
   "cell_type": "code",
   "execution_count": 1,
   "metadata": {},
   "outputs": [
    {
     "name": "stdout",
     "output_type": "stream",
     "text": [
      "Creating the object\n",
      "singletonObj is 140491471026960, which is the same as singletonObj2 140491471026960 \n"
     ]
    }
   ],
   "source": [
    "# Python singleton\n",
    "class singleton:\n",
    "    _instance = None\n",
    "\n",
    "    def __new__(cls):\n",
    "        if cls._instance is None:\n",
    "            print('Creating the object')\n",
    "            \n",
    "            # https://stackoverflow.com/questions/100003/what-are-metaclasses-in-python\n",
    "            # https://stackoverflow.com/questions/50211702/what-does-supersubclass-class-new-class-do\n",
    "            cls._instance = super(singleton, cls).__new__(cls)\n",
    "            \n",
    "        return cls._instance\n",
    "\n",
    "# create object twice from singleton class\n",
    "singletonObj = singleton()\n",
    "# initialize singleton instance twice\n",
    "singletonObj2 = singleton()\n",
    "\n",
    "print(f'singletonObj is {id(singletonObj)}, which is the same as singletonObj2 {id(singletonObj2)} ')"
   ]
  },
  {
   "cell_type": "code",
   "execution_count": null,
   "metadata": {},
   "outputs": [],
   "source": []
  }
 ],
 "metadata": {
  "kernelspec": {
   "display_name": "Python 3",
   "language": "python",
   "name": "python3"
  },
  "language_info": {
   "codemirror_mode": {
    "name": "ipython",
    "version": 3
   },
   "file_extension": ".py",
   "mimetype": "text/x-python",
   "name": "python",
   "nbconvert_exporter": "python",
   "pygments_lexer": "ipython3",
   "version": "3.7.5"
  }
 },
 "nbformat": 4,
 "nbformat_minor": 4
}

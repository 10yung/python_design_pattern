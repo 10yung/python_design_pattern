{
 "cells": [
  {
   "cell_type": "markdown",
   "metadata": {},
   "source": [
    "# Decorator\n",
    "Decorator can add responsibility (features) into existing function without affecting other object. Extend the functionality of an object. In python, a decorator is a callable (function, method, or class) that gets a function (object) as input, and returns another function (object) as output.\n",
    "\n",
    "The most seen scenario that use decorator pattern ( implementing [cross-cutting concerns](https://en.wikipedia.org/wiki/Cross-cutting_concern) ):\n",
    "- Data validation\n",
    "- Caching\n",
    "- Logging\n",
    "- Monitoring\n",
    "- Debugging\n",
    "- Business rules\n",
    "- Encryption"
   ]
  },
  {
   "cell_type": "code",
   "execution_count": 13,
   "metadata": {},
   "outputs": [
    {
     "name": "stdout",
     "output_type": "stream",
     "text": [
      "CPU times: user 9 µs, sys: 0 ns, total: 9 µs\n",
      "Wall time: 11.9 µs\n"
     ]
    },
    {
     "data": {
      "text/plain": [
       "465"
      ]
     },
     "execution_count": 13,
     "metadata": {},
     "output_type": "execute_result"
    }
   ],
   "source": [
    "# A simple dynamic programming example\n",
    "# Sum all n, n-1, n-2, ..., 1, 0\n",
    "def number_sum(n): \n",
    "    '''Returns the sum of the first n numbers''' \n",
    "    assert(n >= 0), 'n must be >= 0' \n",
    "    \n",
    "    if n == 0:\n",
    "        return 0\n",
    "    else:\n",
    "        return n + number_sum(n-1)  \n",
    "\n",
    "%time number_sum(30)"
   ]
  },
  {
   "cell_type": "code",
   "execution_count": 14,
   "metadata": {},
   "outputs": [
    {
     "name": "stdout",
     "output_type": "stream",
     "text": [
      "CPU times: user 15 µs, sys: 0 ns, total: 15 µs\n",
      "Wall time: 17.9 µs\n"
     ]
    },
    {
     "data": {
      "text/plain": [
       "465"
      ]
     },
     "execution_count": 14,
     "metadata": {},
     "output_type": "execute_result"
    }
   ],
   "source": [
    "\n",
    "sum_cache = {0:0}\n",
    "  \n",
    "def dp_number_sum(n): \n",
    "    '''Returns the sum of the first n numbers''' \n",
    "    assert(n >= 0), 'n must be >= 0'\n",
    "    \n",
    "    if n in sum_cache:\n",
    "        return sum_cache[n]\n",
    "    res = n + dp_number_sum(n-1)\n",
    "    # Add the value to the cache\n",
    "    sum_cache[n] = res\n",
    "\n",
    "    return res\n",
    "\n",
    "%time dp_number_sum(30)"
   ]
  },
  {
   "cell_type": "code",
   "execution_count": 11,
   "metadata": {},
   "outputs": [
    {
     "name": "stdout",
     "output_type": "stream",
     "text": [
      "CPU times: user 19 µs, sys: 0 ns, total: 19 µs\n",
      "Wall time: 23.1 µs\n"
     ]
    },
    {
     "data": {
      "text/plain": [
       "832040"
      ]
     },
     "execution_count": 11,
     "metadata": {},
     "output_type": "execute_result"
    }
   ],
   "source": [
    "# Add fibonacci function\n",
    "cache_fib = {0:0, 1:1} \n",
    " \n",
    "def fibonacci(n): \n",
    "    '''Returns the suite of Fibonacci numbers''' \n",
    "    assert(n >= 0), 'n must be >= 0' \n",
    "    \n",
    "    if n in cache_fib: \n",
    "        return cache_fib[n] \n",
    "    res = fibonacci(n-1) + fibonacci(n-2) \n",
    "    cache_fib[n] = res \n",
    "    return res\n",
    "\n",
    "%time fibonacci(30)"
   ]
  },
  {
   "cell_type": "code",
   "execution_count": 20,
   "metadata": {},
   "outputs": [],
   "source": [
    "# Use decorator to wrap the cache mechanism\n",
    "# functools wraps: https://www.geeksforgeeks.org/python-functools-wraps-function/\n",
    "from functools import wraps\n",
    "\n",
    "def cache_manager(fn): \n",
    "    cache = dict() \n",
    " \n",
    "    @wraps(fn) \n",
    "    def cache_updator(*args): \n",
    "        if args not in cache: \n",
    "            cache[args] = fn(*args) \n",
    "        return cache[args] \n",
    " \n",
    "    return cache_manager\n",
    "\n",
    "# The cache_manager help function to implement cache mechanism in dynamic programming without explicit write the code \n",
    "@cache_manager \n",
    "def number_sum(n): \n",
    "    assert(n >= 0), 'n must be >= 0' \n",
    "    if n == 0:\n",
    "        return 0\n",
    "    else:\n",
    "        return n + number_sum(n-1)\n",
    " \n",
    "\n",
    "@cache_manager \n",
    "def fibonacci(n): \n",
    "    assert(n >= 0), 'n must be >= 0'\n",
    "    if n in (0, 1):\n",
    "        return n\n",
    "    else:\n",
    "        return fibonacci(n-1) + fibonacci(n-2)\n"
   ]
  },
  {
   "cell_type": "code",
   "execution_count": null,
   "metadata": {},
   "outputs": [],
   "source": []
  }
 ],
 "metadata": {
  "kernelspec": {
   "display_name": "Python 3",
   "language": "python",
   "name": "python3"
  },
  "language_info": {
   "codemirror_mode": {
    "name": "ipython",
    "version": 3
   },
   "file_extension": ".py",
   "mimetype": "text/x-python",
   "name": "python",
   "nbconvert_exporter": "python",
   "pygments_lexer": "ipython3",
   "version": "3.7.5"
  }
 },
 "nbformat": 4,
 "nbformat_minor": 4
}

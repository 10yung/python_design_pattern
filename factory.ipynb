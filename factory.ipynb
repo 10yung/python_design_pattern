{
 "cells": [
  {
   "cell_type": "markdown",
   "metadata": {},
   "source": [
    "# Factory Pattern\n",
    "Build a factory that handle the process of create an object. So that the client don't know where (which class) and how (parameter) the object is created. If you found out objects creation processes are hidden in too many places (folder) which make it very hard to track. You should consider factory pattern. You can use factory pattern when you want to decoupling object creation from object usage. A **factory method** can improve memory usage by creating new objects only if it is absolutely necessary.\n",
    "\n",
    "1. The factory method - a function that returns a different object per input parameter\n",
    "2. The abstract factory - a group of factory functions that return different objects base on input parameter."
   ]
  },
  {
   "cell_type": "code",
   "execution_count": 10,
   "metadata": {},
   "outputs": [
    {
     "name": "stdout",
     "output_type": "stream",
     "text": [
      "jump\n"
     ]
    }
   ],
   "source": [
    "class Cat: \n",
    "    def __init__(self, weight, age):\n",
    "        self.weight = weight\n",
    "        self.age = age\n",
    "    def move(self):\n",
    "        print('jump')\n",
    "        \n",
    "class Dog: \n",
    "    def __init__(self, weight, age):\n",
    "        self.weight = weight\n",
    "        self.age = age\n",
    "    def move(self):\n",
    "        print('Walk')\n",
    "\n",
    "class Fish: \n",
    "    def __init__(self, weight, age):\n",
    "        self.weight = weight\n",
    "        self.age = age\n",
    "    def move(self):\n",
    "        print('swim')\n",
    "        \n",
    "        \n",
    "class PetFactory:\n",
    "    def get_pet(self, pet, weight, age):\n",
    "        # Factory method     \n",
    "        pet_categories = { \n",
    "            \"cat\": Cat, \n",
    "            \"dog\": Dog, \n",
    "            \"fish\": Fish, \n",
    "        }\n",
    "\n",
    "        # return initialized object\n",
    "        return pet_categories[pet](weight, age)\n",
    "    \n",
    "\n",
    "\n",
    "pet_factory = PetFactory()\n",
    "cat = pet_factory.get_pet(\"cat\", 18, 9)\n",
    "cat.move()\n",
    "    "
   ]
  },
  {
   "cell_type": "code",
   "execution_count": null,
   "metadata": {},
   "outputs": [],
   "source": []
  }
 ],
 "metadata": {
  "kernelspec": {
   "display_name": "Python 3",
   "language": "python",
   "name": "python3"
  },
  "language_info": {
   "codemirror_mode": {
    "name": "ipython",
    "version": 3
   },
   "file_extension": ".py",
   "mimetype": "text/x-python",
   "name": "python",
   "nbconvert_exporter": "python",
   "pygments_lexer": "ipython3",
   "version": "3.7.5"
  }
 },
 "nbformat": 4,
 "nbformat_minor": 4
}

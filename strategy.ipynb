{
 "cells": [
  {
   "cell_type": "markdown",
   "metadata": {},
   "source": [
    "# Strategy Pattern\n",
    "This pattern enable client to choose from different algorithms or procedures to complete the specified task without change the structure of the code."
   ]
  },
  {
   "cell_type": "code",
   "execution_count": 12,
   "metadata": {},
   "outputs": [
    {
     "name": "stdout",
     "output_type": "stream",
     "text": [
      "Strategy 1\n",
      "Strategy 2\n"
     ]
    }
   ],
   "source": [
    "from abc import ABC, abstractmethod\n",
    "\n",
    "# Define the interface of each strategy\n",
    "class StrategyInterface(ABC):\n",
    "    def implement():\n",
    "        pass\n",
    "\n",
    "# Strategy manager\n",
    "class StrategyExample:\n",
    "    def __init__(self, obj=None):\n",
    "        if obj:\n",
    "             self._strat = obj\n",
    "\n",
    "    def execute(self):\n",
    "        return self._strat.implement()\n",
    "\n",
    "# Different strategy and how they implement\n",
    "class executeReplacement1(StrategyInterface):\n",
    "    def implement(self):\n",
    "        return \"Strategy 1\"\n",
    "\n",
    "class executeReplacement2(StrategyInterface):\n",
    "    def implement(self):\n",
    "        return \"Strategy 2\"\n",
    "\n",
    "strat1 = StrategyExample(executeReplacement1())\n",
    "strat2 = StrategyExample(executeReplacement2())\n",
    "\n",
    "print(strat1.execute())\n",
    "print(strat2.execute())\n"
   ]
  }
 ],
 "metadata": {
  "kernelspec": {
   "display_name": "Python 3",
   "language": "python",
   "name": "python3"
  },
  "language_info": {
   "codemirror_mode": {
    "name": "ipython",
    "version": 3
   },
   "file_extension": ".py",
   "mimetype": "text/x-python",
   "name": "python",
   "nbconvert_exporter": "python",
   "pygments_lexer": "ipython3",
   "version": "3.7.5"
  }
 },
 "nbformat": 4,
 "nbformat_minor": 4
}

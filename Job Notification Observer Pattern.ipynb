{
 "cells": [
  {
   "cell_type": "markdown",
   "metadata": {},
   "source": [
    "# Job Notification Observer Pattern"
   ]
  },
  {
   "cell_type": "code",
   "execution_count": 1,
   "metadata": {},
   "outputs": [],
   "source": [
    "class LinkedInNotificationCenter:\n",
    "    def __init__(self):\n",
    "        self._jobSeekers = []\n",
    "\n",
    "    def add(self, jobSeeker):\n",
    "        if jobSeeker not in self._jobSeekers:\n",
    "            self._jobSeekers.append(jobSeeker)\n",
    "        else:\n",
    "            print(f'Failed to add: {jobSeeker} to list')\n",
    "\n",
    "    def remove(self, jobSeeker):\n",
    "        try:\n",
    "            self._jobSeekers.remove(jobSeeker)\n",
    "        except ValueError:\n",
    "            print(f'Failed to remove: {jobSeeker} from list')\n",
    "\n",
    "    def new_job_added(self, job):\n",
    "        company = job.split('|')[0]\n",
    "        job_type = job.split('|')[1]\n",
    "        \n",
    "        [seeker.action(company, job_type) for seeker in self._jobSeekers]"
   ]
  },
  {
   "cell_type": "code",
   "execution_count": 12,
   "metadata": {},
   "outputs": [],
   "source": [
    "class JobBoard(LinkedInNotificationCenter):\n",
    "    def __init__(self):\n",
    "        super().__init__()\n",
    "        self.__jobList = [\n",
    "            'Apple|Software Engineer',\n",
    "            'Netflix|Senior Software Engineer'\n",
    "        ]\n",
    "\n",
    "    def __get_job_list(self):\n",
    "        return self.__jobList\n",
    "\n",
    "    def add_job(self, job):\n",
    "        if job not in self.__jobList:\n",
    "            self.__jobList.append(job)\n",
    "            self.new_job_added(job)\n",
    "        else:\n",
    "            print(f'{job} already existed!')\n",
    "            \n",
    "    jobList = property(__get_job_list)"
   ]
  },
  {
   "cell_type": "code",
   "execution_count": 25,
   "metadata": {},
   "outputs": [],
   "source": [
    "class personality_profile:\n",
    "    def __init__(self, name):\n",
    "        self._name = (name)\n",
    "    \n",
    "    def action(self, company, job_type):\n",
    "        print(f'{self._name}: ')\n",
    "        if job_type == 'Full Stack Developer':\n",
    "            print(f'Hearing the new jobs form {job_type}, make a coffee, not my business')\n",
    "        \n",
    "        if job_type == 'Marketing':\n",
    "            print(f'Hearing the new {job_type} jobs from {company}, Go to career service for practicing interview')\n",
    "        print('')"
   ]
  },
  {
   "cell_type": "code",
   "execution_count": 26,
   "metadata": {},
   "outputs": [
    {
     "data": {
      "text/plain": [
       "['Apple|Software Engineer', 'Netflix|Senior Software Engineer']"
      ]
     },
     "execution_count": 26,
     "metadata": {},
     "output_type": "execute_result"
    }
   ],
   "source": [
    "MyJobBoard = JobBoard()\n",
    "MyJobBoard.jobList"
   ]
  },
  {
   "cell_type": "code",
   "execution_count": 27,
   "metadata": {},
   "outputs": [],
   "source": [
    "Andy = personality_profile('Andy')\n",
    "Jane = personality_profile('Jane')\n",
    "Keanu = personality_profile('Keanu')\n"
   ]
  },
  {
   "cell_type": "code",
   "execution_count": 28,
   "metadata": {},
   "outputs": [],
   "source": [
    "MyJobBoard.add(Andy)\n",
    "MyJobBoard.add(Jane)"
   ]
  },
  {
   "cell_type": "code",
   "execution_count": 29,
   "metadata": {},
   "outputs": [
    {
     "name": "stdout",
     "output_type": "stream",
     "text": [
      "Andy: \n",
      "Hearing the new jobs form Full Stack Developer, make a coffee, not my business\n",
      "\n",
      "Jane: \n",
      "Hearing the new jobs form Full Stack Developer, make a coffee, not my business\n",
      "\n"
     ]
    }
   ],
   "source": [
    "MyJobBoard.add_job('Amazon|Full Stack Developer')"
   ]
  },
  {
   "cell_type": "code",
   "execution_count": 30,
   "metadata": {},
   "outputs": [
    {
     "name": "stdout",
     "output_type": "stream",
     "text": [
      "Andy: \n",
      "Hearing the new Marketing jobs from Amazon, Go to career service for practicing interview\n",
      "\n",
      "Jane: \n",
      "Hearing the new Marketing jobs from Amazon, Go to career service for practicing interview\n",
      "\n"
     ]
    }
   ],
   "source": [
    "MyJobBoard.add_job('Amazon|Marketing')"
   ]
  },
  {
   "cell_type": "code",
   "execution_count": 31,
   "metadata": {},
   "outputs": [],
   "source": [
    "MyJobBoard.add(Keanu)"
   ]
  },
  {
   "cell_type": "code",
   "execution_count": 32,
   "metadata": {},
   "outputs": [
    {
     "name": "stdout",
     "output_type": "stream",
     "text": [
      "Andy: \n",
      "Hearing the new Marketing jobs from Apple, Go to career service for practicing interview\n",
      "\n",
      "Jane: \n",
      "Hearing the new Marketing jobs from Apple, Go to career service for practicing interview\n",
      "\n",
      "Keanu: \n",
      "Hearing the new Marketing jobs from Apple, Go to career service for practicing interview\n",
      "\n"
     ]
    }
   ],
   "source": [
    "MyJobBoard.add_job('Apple|Marketing')"
   ]
  },
  {
   "cell_type": "code",
   "execution_count": 33,
   "metadata": {},
   "outputs": [
    {
     "data": {
      "text/plain": [
       "['Apple|Software Engineer',\n",
       " 'Netflix|Senior Software Engineer',\n",
       " 'Amazon|Full Stack Developer',\n",
       " 'Amazon|Marketing',\n",
       " 'Apple|Marketing']"
      ]
     },
     "execution_count": 33,
     "metadata": {},
     "output_type": "execute_result"
    }
   ],
   "source": [
    "MyJobBoard.jobList"
   ]
  },
  {
   "cell_type": "code",
   "execution_count": null,
   "metadata": {},
   "outputs": [],
   "source": []
  }
 ],
 "metadata": {
  "kernelspec": {
   "display_name": "Python 3",
   "language": "python",
   "name": "python3"
  },
  "language_info": {
   "codemirror_mode": {
    "name": "ipython",
    "version": 3
   },
   "file_extension": ".py",
   "mimetype": "text/x-python",
   "name": "python",
   "nbconvert_exporter": "python",
   "pygments_lexer": "ipython3",
   "version": "3.7.5"
  }
 },
 "nbformat": 4,
 "nbformat_minor": 4
}

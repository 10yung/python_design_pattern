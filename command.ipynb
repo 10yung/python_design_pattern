{
 "cells": [
  {
   "cell_type": "markdown",
   "metadata": {},
   "source": [
    "# Command Pattern\n",
    "The command pattern enable us to encapsulate operation (undo, redo and paste, etc...) as an object. We create a class that contain all the logic and method required to implement the operation. The object that invokes the command is decoupled from the object that knows how to perform it."
   ]
  },
  {
   "cell_type": "code",
   "execution_count": 12,
   "metadata": {},
   "outputs": [
    {
     "name": "stdout",
     "output_type": "stream",
     "text": [
      "Radio Volumn Up\n"
     ]
    }
   ],
   "source": [
    "from abc import ABC, abstractmethod\n",
    "\n",
    "class CommandInterface(ABC):\n",
    "    @abstractmethod\n",
    "    def execute(self):\n",
    "        pass\n",
    "    \n",
    "class VolumnUpCommand(CommandInterface):\n",
    "    \"\"\"A Command object, which implemets the ICommand interface\"\"\"\n",
    "\n",
    "    def __init__(self, volumn):\n",
    "        self._volumn = volumn\n",
    "\n",
    "    def execute(self):\n",
    "        self._volumn.up()\n",
    "        \n",
    "class VolumnDownCommand(CommandInterface):\n",
    "    def __init__(self, volumn):\n",
    "        self._volumn = volumn\n",
    "\n",
    "    def execute(self):\n",
    "        self._volumn.down()\n",
    "        \n",
    "\n",
    "class Volumn:\n",
    "    def __init__(self):\n",
    "        self._commands = {}\n",
    "\n",
    "    def register(self, command_name, command):\n",
    "        self._commands[command_name] = command\n",
    "\n",
    "\n",
    "    def execute(self, command_name):\n",
    "        if command_name in self._commands.keys():\n",
    "            self._commands[command_name].execute()\n",
    "        else:\n",
    "            print(f\"Command [{command_name}] not recognised\")\n",
    "            \n",
    "class Radio:\n",
    "    def up(self):\n",
    "        print(\"Radio Volumn Up\")\n",
    "\n",
    "    def down(self):\n",
    "        print(\"Radio Volumn Down\")\n",
    "        \n",
    "        \n",
    "radio = Radio()\n",
    "\n",
    "# create command\n",
    "volumn_up = VolumnUpCommand(radio)\n",
    "volumn_down = VolumnDownCommand(radio)\n",
    "\n",
    "# register command\n",
    "volumn = Volumn()\n",
    "volumn.register(\"UP\", volumn_up)\n",
    "volumn.register(\"DOWN\", volumn_down)\n",
    "                \n",
    "# execute command\n",
    "volumn.execute(\"UP\")"
   ]
  },
  {
   "cell_type": "code",
   "execution_count": null,
   "metadata": {},
   "outputs": [],
   "source": []
  }
 ],
 "metadata": {
  "kernelspec": {
   "display_name": "Python 3",
   "language": "python",
   "name": "python3"
  },
  "language_info": {
   "codemirror_mode": {
    "name": "ipython",
    "version": 3
   },
   "file_extension": ".py",
   "mimetype": "text/x-python",
   "name": "python",
   "nbconvert_exporter": "python",
   "pygments_lexer": "ipython3",
   "version": "3.7.5"
  }
 },
 "nbformat": 4,
 "nbformat_minor": 4
}

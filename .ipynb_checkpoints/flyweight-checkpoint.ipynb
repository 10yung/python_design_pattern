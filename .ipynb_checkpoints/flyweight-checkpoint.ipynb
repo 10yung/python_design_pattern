{
 "cells": [
  {
   "cell_type": "markdown",
   "metadata": {},
   "source": [
    "# Flyweight Pattern\n",
    "Implement data sharing between object to reduce memory usage and improve performance. A flyweight is an object that contains state-independent, immutable data. Flyweight can reduce object count. It instantiates object that is not exist."
   ]
  },
  {
   "cell_type": "code",
   "execution_count": 29,
   "metadata": {},
   "outputs": [
    {
     "name": "stdout",
     "output_type": "stream",
     "text": [
      "Model: BMW-i3, Color: red\n",
      "140572804442640\n",
      "Model: BMW-i3, Color: blue\n",
      "140572804442640\n",
      "Model: Mercedes-GLA, Color: red\n",
      "140572541223888\n",
      "Model: Mercedes-GLA, Color: red\n",
      "4459272296\n"
     ]
    }
   ],
   "source": [
    "# create flyweight class, if  \n",
    "class Car: \n",
    "    pool = {}\n",
    "     \n",
    "    def __new__(cls, car_type):\n",
    "        # If car_type is not exist, return a object(instance) of that type  \n",
    "        obj = cls.pool.get(car_type, None) \n",
    "        if not obj: \n",
    "            obj = object.__new__(cls) \n",
    "            cls.pool[car_type] = obj \n",
    "            obj.car_type = car_type\n",
    "        return obj\n",
    "    \n",
    "    def set_color(self, color):\n",
    "        self._color = color\n",
    "        print(f'Model: {self.car_type}, Color: {self._color}')\n",
    "    \n",
    "# Set car model and color\n",
    "# The object is reference to the same memory positoin with different color setting (shared car_type)\n",
    "bmw_i3_1 = Car('BMW-i3')\n",
    "bmw_red = bmw_i3.set_color('red')\n",
    "print(id(bmw_i3_1))\n",
    "\n",
    "bmw_i3_2 = Car('BMW-i3')\n",
    "bmw_blue = bmw_i3.set_color('blue')\n",
    "print(id(bmw_i3_2))\n",
    "\n",
    "benz_gla = Car('Mercedes-GLA')\n",
    "benz_gla_red = benz_gla.set_color('red')\n",
    "print(id(benz_gla))\n"
   ]
  },
  {
   "cell_type": "code",
   "execution_count": null,
   "metadata": {},
   "outputs": [],
   "source": []
  }
 ],
 "metadata": {
  "kernelspec": {
   "display_name": "Python 3",
   "language": "python",
   "name": "python3"
  },
  "language_info": {
   "codemirror_mode": {
    "name": "ipython",
    "version": 3
   },
   "file_extension": ".py",
   "mimetype": "text/x-python",
   "name": "python",
   "nbconvert_exporter": "python",
   "pygments_lexer": "ipython3",
   "version": "3.7.5"
  }
 },
 "nbformat": 4,
 "nbformat_minor": 4
}

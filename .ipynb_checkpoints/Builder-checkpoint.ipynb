{
 "cells": [
  {
   "cell_type": "markdown",
   "metadata": {},
   "source": [
    "# Builder pattern\n",
    "The build pattern separate the constructing process of the complex object into different object. It's very useful when we need our (complex) object built step by step.\n",
    "\n",
    "1. The builder: Build the complex object\n",
    "2. The director: The director **controls** the building process using a **builder** instance\n",
    "\n",
    "When a object is complex and you need to construct the object step by step, then builder pattern is a suitable."
   ]
  },
  {
   "cell_type": "code",
   "execution_count": 34,
   "metadata": {},
   "outputs": [],
   "source": [
    "from abc import ABC, abstractmethod, abstractproperty\n",
    "\n",
    "# specifies methods for creating the pizza object.\n",
    "class PizzaBuilderInterface(ABC):\n",
    "\n",
    "    @abstractproperty\n",
    "    def prepare_dough(self) -> None:\n",
    "        pass\n",
    "\n",
    "    @abstractmethod\n",
    "    def add_sauce(self) -> None:\n",
    "        pass\n",
    "\n",
    "    @abstractmethod\n",
    "    def add_topping(self) -> None:\n",
    "        pass\n",
    "\n",
    "    @abstractmethod\n",
    "    def pizza(self) -> None:\n",
    "        pass\n",
    "\n",
    "\n",
    "# Provide specific implementations of the building steps. \n",
    "class MargaritaPizzaBuilder(PizzaBuilderInterface):\n",
    "    def __init__(self):\n",
    "        self._dough = ''\n",
    "        self._sauce = ''\n",
    "        self._topping = []\n",
    "\n",
    "    def prepare_dough(self) -> None:\n",
    "        self._dough = 'basic_dough'\n",
    "\n",
    "    def add_sauce(self) -> None:\n",
    "        self._sauce = 'margarita sauce'\n",
    "\n",
    "    def add_topping(self) -> None:\n",
    "        self._topping = [\n",
    "            'tomato',\n",
    "            'Cheese'\n",
    "        ]\n",
    "        \n",
    "    @property\n",
    "    def pizza(self):\n",
    "        pizza = {\n",
    "            'dough':  self._dough,\n",
    "            'sauce':  self._sauce,\n",
    "            'topping': self._topping\n",
    "        }\n",
    "        print(pizza)\n",
    "\n",
    "class PizzaMaker:\n",
    "    def __init__(self):\n",
    "        self._builder = None\n",
    "\n",
    "    def construct_pizza(self, builder):\n",
    "        self._builder = builder()\n",
    "        steps = (self._builder.prepare_dough, \n",
    "                 self._builder.add_sauce, \n",
    "                 self._builder.add_topping)\n",
    "        \n",
    "        # making pizza process \n",
    "        [step() for step in steps]\n",
    "        \n",
    "        return self._builder\n",
    "        \n",
    "    @property\n",
    "    def pizza(self):\n",
    "        return self._builder.pizza\n"
   ]
  },
  {
   "cell_type": "code",
   "execution_count": 35,
   "metadata": {},
   "outputs": [
    {
     "name": "stdout",
     "output_type": "stream",
     "text": [
      "{'dough': 'basic_dough', 'sauce': 'margarita sauce', 'topping': ['tomato', 'Cheese']}\n"
     ]
    }
   ],
   "source": [
    "waiter = PizzaMaker()\n",
    "margarita_pizza = waiter.construct_pizza(MargaritaPizzaBuilder)\n",
    "margarita_pizza.pizza"
   ]
  },
  {
   "cell_type": "code",
   "execution_count": null,
   "metadata": {},
   "outputs": [],
   "source": []
  }
 ],
 "metadata": {
  "kernelspec": {
   "display_name": "Python 3",
   "language": "python",
   "name": "python3"
  },
  "language_info": {
   "codemirror_mode": {
    "name": "ipython",
    "version": 3
   },
   "file_extension": ".py",
   "mimetype": "text/x-python",
   "name": "python",
   "nbconvert_exporter": "python",
   "pygments_lexer": "ipython3",
   "version": "3.7.5"
  }
 },
 "nbformat": 4,
 "nbformat_minor": 4
}

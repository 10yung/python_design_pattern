{
 "cells": [
  {
   "cell_type": "markdown",
   "metadata": {},
   "source": [
    "# Decorator\n",
    "Decorator can add responsibility (features) into existing function without affecting other object. Extend the functionality of an object. In python, a decorator is a callable (function, method, or class) that gets a function (object) as input, and returns another function (object) as output.\n",
    "\n",
    "The most seen scenario that use decorator pattern ( implementing [cross-cutting concerns](https://en.wikipedia.org/wiki/Cross-cutting_concern) ):\n",
    "- Data validation\n",
    "- Caching\n",
    "- Logging\n",
    "- Monitoring\n",
    "- Debugging\n",
    "- Business rules\n",
    "- Encryption"
   ]
  },
  {
   "cell_type": "code",
   "execution_count": 6,
   "metadata": {},
   "outputs": [
    {
     "name": "stdout",
     "output_type": "stream",
     "text": [
      "CPU times: user 13 µs, sys: 0 ns, total: 13 µs\n",
      "Wall time: 15 µs\n"
     ]
    },
    {
     "data": {
      "text/plain": [
       "465"
      ]
     },
     "execution_count": 6,
     "metadata": {},
     "output_type": "execute_result"
    }
   ],
   "source": [
    "# A simple dynamic programming example\n",
    "# Sum all n, n-1, n-2, ..., 1, 0\n",
    "def number_sum(n): \n",
    "    '''Returns the sum of the first n numbers''' \n",
    "    assert(n >= 0), 'n must be >= 0' \n",
    "    \n",
    "    if n == 0:\n",
    "        return 0\n",
    "    else:\n",
    "        return n + number_sum(n-1)  \n",
    "\n",
    "%time number_sum(30)"
   ]
  },
  {
   "cell_type": "code",
   "execution_count": 7,
   "metadata": {},
   "outputs": [
    {
     "name": "stdout",
     "output_type": "stream",
     "text": [
      "CPU times: user 16 µs, sys: 0 ns, total: 16 µs\n",
      "Wall time: 18.8 µs\n"
     ]
    },
    {
     "data": {
      "text/plain": [
       "465"
      ]
     },
     "execution_count": 7,
     "metadata": {},
     "output_type": "execute_result"
    }
   ],
   "source": [
    "\n",
    "sum_cache = {0:0}\n",
    "  \n",
    "def dp_number_sum(n): \n",
    "    '''Returns the sum of the first n numbers''' \n",
    "    assert(n >= 0), 'n must be >= 0'\n",
    "    \n",
    "    if n in sum_cache:\n",
    "        return sum_cache[n]\n",
    "    res = n + dp_number_sum(n-1)\n",
    "    # Add the value to the cache\n",
    "    sum_cache[n] = res\n",
    "\n",
    "    return res\n",
    "\n",
    "%time dp_number_sum(30)"
   ]
  },
  {
   "cell_type": "code",
   "execution_count": null,
   "metadata": {},
   "outputs": [],
   "source": []
  }
 ],
 "metadata": {
  "kernelspec": {
   "display_name": "Python 3",
   "language": "python",
   "name": "python3"
  },
  "language_info": {
   "codemirror_mode": {
    "name": "ipython",
    "version": 3
   },
   "file_extension": ".py",
   "mimetype": "text/x-python",
   "name": "python",
   "nbconvert_exporter": "python",
   "pygments_lexer": "ipython3",
   "version": "3.7.5"
  }
 },
 "nbformat": 4,
 "nbformat_minor": 4
}

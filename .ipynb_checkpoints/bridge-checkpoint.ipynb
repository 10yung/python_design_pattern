{
 "cells": [
  {
   "cell_type": "markdown",
   "metadata": {},
   "source": [
    "# Bridge Pattern\n",
    "The bridge pattern is designed to decouple an implementation from its abstraction. It's very useful when you want to load data from different source with different implementation."
   ]
  },
  {
   "cell_type": "code",
   "execution_count": 12,
   "metadata": {},
   "outputs": [],
   "source": [
    "from abc import ABC, abstractmethod\n",
    "\n",
    "# create resource manager for bind object function\n",
    "class resourceMnanger():\n",
    "    def __init__(self, ResourceType):\n",
    "        self._resourceType = ResourceType\n",
    "        \n",
    "    def get_content(self, location):\n",
    "        self._resourceType.fetch(location)\n",
    "\n",
    "# define API for resource manager\n",
    "class resourceInterface(ABC):\n",
    "    @abstractmethod\n",
    "    def fetch(location):\n",
    "        pass\n",
    "    \n",
    "# implementation from different resource\n",
    "class MySqlFetcher(resourceInterface): \n",
    "    def fetch(self, loc):\n",
    "        print(f'Fetch data from {loc} MySQL')\n",
    "\n",
    "class WebApiFetcher(resourceInterface):\n",
    "    def fetch(self, loc):\n",
    "        print(f'Fetch data from {loc} WebApiFetcher')"
   ]
  },
  {
   "cell_type": "code",
   "execution_count": 15,
   "metadata": {},
   "outputs": [
    {
     "name": "stdout",
     "output_type": "stream",
     "text": [
      "Fetch data from ./mysql_data MySQL\n",
      "Fetch data from ./webapi_data WebApiFetcher\n"
     ]
    }
   ],
   "source": [
    "sql_fetcher = MySqlFetcher()\n",
    "mysql_data_manager = resourceMnanger(sql_fetcher)\n",
    "mysql_data_manager.get_content('./mysql_data')\n",
    "\n",
    "\n",
    "webapi_fetcher = WebApiFetcher()\n",
    "webapi_data_manager = resourceMnanger(webapi_fetcher)\n",
    "webapi_data_manager.get_content('./webapi_data')"
   ]
  },
  {
   "cell_type": "code",
   "execution_count": null,
   "metadata": {},
   "outputs": [],
   "source": []
  }
 ],
 "metadata": {
  "kernelspec": {
   "display_name": "Python 3",
   "language": "python",
   "name": "python3"
  },
  "language_info": {
   "codemirror_mode": {
    "name": "ipython",
    "version": 3
   },
   "file_extension": ".py",
   "mimetype": "text/x-python",
   "name": "python",
   "nbconvert_exporter": "python",
   "pygments_lexer": "ipython3",
   "version": "3.7.5"
  }
 },
 "nbformat": 4,
 "nbformat_minor": 4
}

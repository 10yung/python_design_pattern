{
 "cells": [
  {
   "cell_type": "markdown",
   "metadata": {},
   "source": [
    "# Reactive Programming\n",
    "Reactive is programming with asynchronous data streams. It's similar as observer pattern in which an object is responsible for tracking the update (event) for all related objects. The core concept is to build applications base on the data stream. Data is the spine of the application.\n",
    "\n",
    "Reference:\n",
    "- https://gist.github.com/staltz/868e7e9bc2a7b8c1f754\n",
    "- https://dzone.com/articles/5-things-to-know-about-reactive-programming"
   ]
  },
  {
   "cell_type": "code",
   "execution_count": 2,
   "metadata": {},
   "outputs": [
    {
     "name": "stdout",
     "output_type": "stream",
     "text": [
      "Received 5\n",
      "Received 5\n",
      "Received 5\n",
      "Received 7\n"
     ]
    },
    {
     "data": {
      "text/plain": [
       "<rx.disposable.disposable.Disposable at 0x7fb370833ed0>"
      ]
     },
     "execution_count": 2,
     "metadata": {},
     "output_type": "execute_result"
    }
   ],
   "source": [
    "import rx\n",
    "from rx import operators as ops\n",
    "\n",
    "source = rx.of(\"Alpha\", \"Beta\", \"Gamma\", \"Delta\", \"Epsilon\")\n",
    "\n",
    "composed = source.pipe(\n",
    "    ops.map(lambda s: len(s)),\n",
    "    ops.filter(lambda i: i >= 5)\n",
    ")\n",
    "composed.subscribe(lambda value: print(\"Received {0}\".format(value)))"
   ]
  },
  {
   "cell_type": "code",
   "execution_count": null,
   "metadata": {},
   "outputs": [],
   "source": []
  }
 ],
 "metadata": {
  "kernelspec": {
   "display_name": "Python 3",
   "language": "python",
   "name": "python3"
  },
  "language_info": {
   "codemirror_mode": {
    "name": "ipython",
    "version": 3
   },
   "file_extension": ".py",
   "mimetype": "text/x-python",
   "name": "python",
   "nbconvert_exporter": "python",
   "pygments_lexer": "ipython3",
   "version": "3.7.5"
  }
 },
 "nbformat": 4,
 "nbformat_minor": 4
}

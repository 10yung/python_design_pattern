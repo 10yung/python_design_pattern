{
 "cells": [
  {
   "cell_type": "markdown",
   "metadata": {},
   "source": [
    "# The Chain of Responsibility Pattern\n",
    "When we interact (send singal) with multiple object and not sure which object should process the singal. The nodes (objects) are structured like a one way link list. Which client only interact with the first node and each node only know the successor of its own.\n",
    "\n",
    "**Processes:**\n",
    "    1. Sending a request to the first object in the chain\n",
    "    2. The object decides whether it should satisfy the request or not\n",
    "    3. The object forwards the request to the next object\n",
    "    4. This procedure is repeated until we reach the end of the chain\n",
    "\n",
    "Useful when modeling the request / event which the number of handler is unknown."
   ]
  },
  {
   "cell_type": "code",
   "execution_count": 6,
   "metadata": {},
   "outputs": [
    {
     "name": "stdout",
     "output_type": "stream",
     "text": [
      "ThirldHandler handle the request\n"
     ]
    }
   ],
   "source": [
    "from abc import ABC, abstractmethod\n",
    "\n",
    "class HandlerInterface(ABC):\n",
    "    @abstractmethod\n",
    "    def set_next(self, next_handler):\n",
    "        pass\n",
    "        \n",
    "    @abstractmethod\n",
    "    def handle(self, request):\n",
    "        pass\n",
    "\n",
    "\n",
    "class AbstractHandler(HandlerInterface):\n",
    "    def __init__(self):\n",
    "        self._next_handler = None\n",
    "\n",
    "    def set_next(self, handler):\n",
    "        self._next_handler = handler\n",
    "\n",
    "        return handler\n",
    "\n",
    "    @abstractmethod\n",
    "    def handle(self, request) -> str:\n",
    "        if self._next_handler:\n",
    "            return self._next_handler.handle(request)\n",
    "\n",
    "        return None\n",
    "    \n",
    "class FirstHandler(AbstractHandler):\n",
    "    def handle(self, request):\n",
    "        if request == '1':\n",
    "            print(f\"FirstHandler handle the request\")\n",
    "        else:\n",
    "            return super().handle(request)\n",
    "\n",
    "class SecondHandler(AbstractHandler):\n",
    "    def handle(self, request):\n",
    "        if request == '2':\n",
    "            print(f\"SecondHandler handle the request\")\n",
    "        else:\n",
    "            return super().handle(request)\n",
    "\n",
    "class ThirdHandler(AbstractHandler):\n",
    "    def handle(self, request):\n",
    "        if request == '3':\n",
    "            print(f\"ThirldHandler handle the request\")\n",
    "        else:\n",
    "            return super().handle(request)\n",
    "\n",
    "# Chain the handler\n",
    "first = FirstHandler()\n",
    "second = SecondHandler()\n",
    "third = ThirdHandler()\n",
    "\n",
    "# Make the chain of object\n",
    "first.set_next(second).set_next(third)\n",
    "\n",
    "request_type = '3'\n",
    "\n",
    "first.handle(request_type)\n"
   ]
  },
  {
   "cell_type": "code",
   "execution_count": null,
   "metadata": {},
   "outputs": [],
   "source": []
  }
 ],
 "metadata": {
  "kernelspec": {
   "display_name": "Python 3",
   "language": "python",
   "name": "python3"
  },
  "language_info": {
   "codemirror_mode": {
    "name": "ipython",
    "version": 3
   },
   "file_extension": ".py",
   "mimetype": "text/x-python",
   "name": "python",
   "nbconvert_exporter": "python",
   "pygments_lexer": "ipython3",
   "version": "3.7.5"
  }
 },
 "nbformat": 4,
 "nbformat_minor": 4
}

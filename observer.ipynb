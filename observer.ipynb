{
 "cells": [
  {
   "cell_type": "markdown",
   "metadata": {},
   "source": [
    "# Observer Pattern\n",
    "**Event driven system** is usually implemented from observer pattern. There are listeners that listen for specific events. The listeners are triggered when an event they are listening to is created. The event plays the role of the publisher and the listeners play the role of the observers. The key point in this case is that multiple listeners (observers) can be attached to a single event (publisher)."
   ]
  },
  {
   "cell_type": "code",
   "execution_count": 9,
   "metadata": {},
   "outputs": [],
   "source": [
    "# Publisher parent class\n",
    "class Publisher:\n",
    "    def __init__(self):\n",
    "        self.observers = []\n",
    "    \n",
    "    def add(self, observer):\n",
    "        # If observer not exist then add to observer list\n",
    "        if observer not in self.observers:\n",
    "            self.observers.append(observer)\n",
    "        else:\n",
    "            print('Failed to add: {}'.format(observer))\n",
    "\n",
    "    def remove(self, observer):\n",
    "        # Remove observe\n",
    "        try:\n",
    "            self.observers.remove(observer)\n",
    "        except ValueError:\n",
    "            print('Failed to remove: {}'.format(observer))\n",
    "\n",
    "    def trigger(self):\n",
    "        # Notify the event\n",
    "        [o.trigger(self) for o in self.observers]\n",
    "\n",
    "# Event Handler\n",
    "class EventHandler(Publisher):\n",
    "    def __init__(self, name):\n",
    "        super().__init__()\n",
    "        self.name = name\n",
    "        self._data = 0\n",
    "        \n",
    "    @property\n",
    "    def data(self):\n",
    "        return self._data\n",
    "\n",
    "    # Trigger everytime the data change\n",
    "    @data.setter\n",
    "    def data(self, new_value):\n",
    "        try:\n",
    "            self._data = int(new_value)\n",
    "        except ValueError as e:\n",
    "            print('Error: {}'.format(e))\n",
    "        else:\n",
    "            self.trigger()\n",
    "\n",
    "# Event object\n",
    "class Event1:\n",
    "    def trigger(self, publisher):\n",
    "        print(f'Trigger event1! {publisher.data}')\n",
    "\n",
    "class Event2:\n",
    "    def trigger(self, publisher):\n",
    "        print(f'Trigger event2! {publisher.data}')"
   ]
  },
  {
   "cell_type": "code",
   "execution_count": 10,
   "metadata": {},
   "outputs": [
    {
     "name": "stdout",
     "output_type": "stream",
     "text": [
      "Trigger event1! 3\n",
      "=== Add Event ===\n",
      "Trigger event1! 2\n",
      "Trigger event2! 2\n"
     ]
    }
   ],
   "source": [
    "# create event handler\n",
    "handler = EventHandler('test1')\n",
    "\n",
    "# register event1\n",
    "handler.add(Event1())\n",
    "# reasign handle data to trigger event1\n",
    "handler.data = 3\n",
    "print('=== Add Event ===')\n",
    "handler.add(Event2())\n",
    "handler.data = 2"
   ]
  },
  {
   "cell_type": "markdown",
   "metadata": {},
   "source": []
  }
 ],
 "metadata": {
  "kernelspec": {
   "display_name": "Python 3",
   "language": "python",
   "name": "python3"
  },
  "language_info": {
   "codemirror_mode": {
    "name": "ipython",
    "version": 3
   },
   "file_extension": ".py",
   "mimetype": "text/x-python",
   "name": "python",
   "nbconvert_exporter": "python",
   "pygments_lexer": "ipython3",
   "version": "3.7.5"
  }
 },
 "nbformat": 4,
 "nbformat_minor": 4
}

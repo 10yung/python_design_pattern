{
 "cells": [
  {
   "cell_type": "markdown",
   "metadata": {},
   "source": [
    "# Proxy Pattern\n",
    "The proxy object will perform an extra action before client access to the real object. We can implement lazy proxy which initialize object once we need it. We can implement protective proxy which check the permission before each client request."
   ]
  },
  {
   "cell_type": "code",
   "execution_count": 7,
   "metadata": {},
   "outputs": [
    {
     "name": "stdout",
     "output_type": "stream",
     "text": [
      "foo\n",
      "bar\n",
      "initializing self._resource which is: None\n",
      "value (0, 1, 2, 3, 4)\n",
      "(0, 1, 2, 3, 4)\n",
      "(0, 1, 2, 3, 4)\n"
     ]
    }
   ],
   "source": [
    "# Implement lazy initialization with virtual proxy\n",
    "class LazyProperty:\n",
    "    def __init__(self, func):\n",
    "        self._func = func\n",
    "        self._method_name = func.__name__\n",
    "    \n",
    "    def __get__(self, obj, cls):\n",
    "        if not obj: \n",
    "            return None \n",
    "        value = self._func(obj) \n",
    "        # print(f'value {value}') \n",
    "        setattr(obj, self._method_name, value) \n",
    "        return value\n",
    "    \n",
    "class Test: \n",
    "    def __init__(self): \n",
    "        self.x = 'foo' \n",
    "        self.y = 'bar' \n",
    "        self._resource = None\n",
    "        \n",
    "    @LazyProperty \n",
    "    def resource(self): \n",
    "        print(f'initializing self._resource which is: {self._resource}')        \n",
    "        self._resource = tuple(range(5)) # expensive assignement \n",
    "        return self._resource\n",
    "\n",
    "t = Test() \n",
    "print(t.x) \n",
    "print(t.y) \n",
    "\n",
    "print(t.resource) \n",
    "print(t.resource)"
   ]
  },
  {
   "cell_type": "code",
   "execution_count": 14,
   "metadata": {},
   "outputs": [
    {
     "name": "stdout",
     "output_type": "stream",
     "text": [
      "There are 4 users: nick, tom, ben, mike\n",
      "Wrong Password!\n",
      "Password Authorized!\n",
      "Added user Andy\n",
      "There are 5 users: nick, tom, ben, mike, Andy\n"
     ]
    }
   ],
   "source": [
    "# Implement protective proxy\n",
    "class SensitiveInfo:\n",
    "    def __init__(self):\n",
    "        self.users = ['nick', 'tom', 'ben', 'mike']\n",
    "  \n",
    "    def read(self):\n",
    "        nb = len(self.users)\n",
    "        print(f\"There are {nb} users: {', '.join(self.users)}\")\n",
    "  \n",
    "    def add(self, user):\n",
    "        self.users.append(user)\n",
    "        print(f'Added user {user}')\n",
    "        \n",
    "class InfoProxy:\n",
    "    def __init__(self):\n",
    "        self._sensitive_info = SensitiveInfo()\n",
    "        self._pwd = '12345'\n",
    "        \n",
    "    def get_user(self):\n",
    "        return self._sensitive_info.read()\n",
    "    \n",
    "    def add_user(self, password: str, user: str):\n",
    "        if password == self._pwd:\n",
    "            print('Password Authorized!')\n",
    "            self._sensitive_info.add(user)\n",
    "        else:\n",
    "            print('Wrong Password!')\n",
    "            \n",
    "proxy = InfoProxy()\n",
    "proxy.get_user()\n",
    "proxy.add_user('12341212342134', 'Andy')\n",
    "proxy.add_user('12345', 'Andy')\n",
    "proxy.get_user()"
   ]
  },
  {
   "cell_type": "code",
   "execution_count": null,
   "metadata": {},
   "outputs": [],
   "source": []
  }
 ],
 "metadata": {
  "kernelspec": {
   "display_name": "Python 3",
   "language": "python",
   "name": "python3"
  },
  "language_info": {
   "codemirror_mode": {
    "name": "ipython",
    "version": 3
   },
   "file_extension": ".py",
   "mimetype": "text/x-python",
   "name": "python",
   "nbconvert_exporter": "python",
   "pygments_lexer": "ipython3",
   "version": "3.7.5"
  }
 },
 "nbformat": 4,
 "nbformat_minor": 4
}

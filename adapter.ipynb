{
 "cells": [
  {
   "cell_type": "markdown",
   "metadata": {},
   "source": [
    "# Adapter pattern\n",
    "Adapter pattern is aim to make two incompatible interfaces compatible. If we are dealing of combine existing code to new code. There are interfance (function) mismatch problems. We add an extra layer (adapter object) to address this situation.\n",
    "\n",
    "The following example it to build a adapter object which combines system one (old system) in to system two (new system) so that the further developing can link to existing object."
   ]
  },
  {
   "cell_type": "code",
   "execution_count": 22,
   "metadata": {},
   "outputs": [
    {
     "name": "stdout",
     "output_type": "stream",
     "text": [
      "system1 handle post request!\n"
     ]
    }
   ],
   "source": [
    "from abc import ABC, abstractmethod\n",
    "\n",
    "# Old system interface and implementation\n",
    "class OldSystemApiInterface(ABC):\n",
    "    @abstractmethod\n",
    "    def get_request_handler():\n",
    "        pass\n",
    "    \n",
    "    @abstractmethod\n",
    "    def post_request_handler():\n",
    "        pass\n",
    "    \n",
    "\n",
    "class OldSystem(OldSystemApiInterface):\n",
    "    def __init__(self):\n",
    "        self._name = 'system one'\n",
    "        \n",
    "    def get_request_handler(self):\n",
    "        print('system1 handle get request!')\n",
    "\n",
    "    def post_request_handler(self):\n",
    "        print('system1 handle post request!')\n",
    "        \n",
    "# New system api and implementation \n",
    "class NewSystemApiInterface(ABC):\n",
    "    @abstractmethod\n",
    "    def request_handler():\n",
    "        pass\n",
    "    \n",
    "\n",
    "class NewSystem(NewSystemApiInterface):\n",
    "    def __init__(self):\n",
    "        self.name = 'system two'\n",
    "        \n",
    "    def request_handler(self, request_type = 'get'):\n",
    "        if request_type == 'get':\n",
    "            print('system2 handle get request!')\n",
    "        elif request_type == 'post':\n",
    "            print('system2 handle post request!')\n",
    "        \n",
    "# Adapter Old system into new system interface\n",
    "class OldSystemAdatper:\n",
    "    # _system: OldSystem\n",
    "        \n",
    "    def __init__(self, OldSystem: OldSystem):\n",
    "        self._system = OldSystem\n",
    "    \n",
    "    def request_handler(self, request_type = 'get'):\n",
    "        if request_type == 'get':\n",
    "            self._system.get_request_handler()\n",
    "        elif request_type == 'post':\n",
    "            self._system.post_request_handler()\n",
    "\n",
    "            \n",
    "system1 = OldSystem()\n",
    "adapt_system = OldSystemAdatper(system1)\n",
    "\n",
    "adapt_system.request_handler(request_type='post')\n"
   ]
  }
 ],
 "metadata": {
  "kernelspec": {
   "display_name": "Python 3",
   "language": "python",
   "name": "python3"
  },
  "language_info": {
   "codemirror_mode": {
    "name": "ipython",
    "version": 3
   },
   "file_extension": ".py",
   "mimetype": "text/x-python",
   "name": "python",
   "nbconvert_exporter": "python",
   "pygments_lexer": "ipython3",
   "version": "3.7.5"
  }
 },
 "nbformat": 4,
 "nbformat_minor": 4
}

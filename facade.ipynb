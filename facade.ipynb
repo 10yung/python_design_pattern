{
 "cells": [
  {
   "cell_type": "markdown",
   "metadata": {},
   "source": [
    "# Facade Pattern\n",
    "With the growth of the system. There are lots of classes and intractions. However, client don't have do know the detail of those intractions. We can create a facade **hide the internal complexity** and expose those necessary component. Facade is a abstraction layer implemented over a complex system which encapsulates the whole complex procedure and make sure everything process step by step in right order."
   ]
  },
  {
   "cell_type": "code",
   "execution_count": 10,
   "metadata": {},
   "outputs": [
    {
     "name": "stdout",
     "output_type": "stream",
     "text": [
      "Start WebServer!\n",
      "Start File Server!\n",
      "Port 80 opened!\n",
      "Set user permission for file server!\n",
      "Start WebServer!\n",
      "Start File Server!\n"
     ]
    }
   ],
   "source": [
    "from abc import ABC, abstractmethod\n",
    "\n",
    "# Create different service interface\n",
    "class ServerInterface(ABC):\n",
    "    @abstractmethod\n",
    "    def __init__(self):\n",
    "        pass\n",
    "  \n",
    "  \n",
    "    @abstractmethod\n",
    "    def boot(self):\n",
    "        pass\n",
    "  \n",
    "    @abstractmethod  \n",
    "    def kill(self, restart=True):\n",
    "        pass\n",
    "\n",
    "# Service within an server\n",
    "class WebServer(ServerInterface):\n",
    "    def __init__(self):\n",
    "        self._name = 'WebServer'\n",
    "    \n",
    "    def boot(self):\n",
    "        print('Start WebServer!')\n",
    "        \n",
    "    def kill(self):\n",
    "        print('Stop WebServer!')\n",
    "    \n",
    "    def set_port(self):\n",
    "        print('Port 80 opened!')\n",
    "        \n",
    "class FileServer(ServerInterface):\n",
    "    def __init__(self):\n",
    "        self._name = 'FileServer'\n",
    "    \n",
    "    def boot(self):\n",
    "        print('Start File Server!')\n",
    "    \n",
    "    def kill(self):\n",
    "        print('Stop FileServer')\n",
    "    \n",
    "    def set_permission(self):\n",
    "        print('Set user permission for file server!')\n",
    "\n",
    "# Facade that wrap all the functions and actions\n",
    "class OperationSystemFacade:\n",
    "    def __init__(self):\n",
    "        self._web_server = WebServer()\n",
    "        self._file_server = FileServer()\n",
    "    \n",
    "    def boot(self):\n",
    "        # boot both service         \n",
    "        [service.boot() for service in (self._web_server, self._file_server)]\n",
    "        \n",
    "    def kill(self):\n",
    "        # kill both service\n",
    "        [service.boot() for service in (self._web_server, self._file_server)]\n",
    "    \n",
    "    def set_port(self):\n",
    "        self._web_server.set_port()\n",
    "    \n",
    "    def set_permission(self):\n",
    "        self._file_server.set_permission()\n",
    "        \n",
    "\n",
    "\n",
    "myServer = OperationSystemFacade()\n",
    "myServer.boot()\n",
    "myServer.set_port()\n",
    "myServer.set_permission()\n",
    "myServer.kill()"
   ]
  },
  {
   "cell_type": "code",
   "execution_count": null,
   "metadata": {},
   "outputs": [],
   "source": []
  }
 ],
 "metadata": {
  "kernelspec": {
   "display_name": "Python 3",
   "language": "python",
   "name": "python3"
  },
  "language_info": {
   "codemirror_mode": {
    "name": "ipython",
    "version": 3
   },
   "file_extension": ".py",
   "mimetype": "text/x-python",
   "name": "python",
   "nbconvert_exporter": "python",
   "pygments_lexer": "ipython3",
   "version": "3.7.5"
  }
 },
 "nbformat": 4,
 "nbformat_minor": 4
}
